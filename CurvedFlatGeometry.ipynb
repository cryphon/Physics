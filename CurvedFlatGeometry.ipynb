{
 "cells": [
  {
   "cell_type": "markdown",
   "id": "fefd989f",
   "metadata": {},
   "source": [
    "# Curved vs. Flat Geometry with Geodesics on a Sphere"
   ]
  },
  {
   "cell_type": "markdown",
   "id": "db77cf9e",
   "metadata": {},
   "source": [
    "## Coordinate systems & tangent vectors"
   ]
  },
  {
   "cell_type": "code",
   "execution_count": 1,
   "id": "89d74e9c",
   "metadata": {},
   "outputs": [
    {
     "name": "stderr",
     "output_type": "stream",
     "text": [
      "C:\\Users\\Yvan\\AppData\\Roaming\\Python\\Python310\\site-packages\\pydub\\utils.py:170: RuntimeWarning: Couldn't find ffmpeg or avconv - defaulting to ffmpeg, but may not work\n",
      "  warn(\"Couldn't find ffmpeg or avconv - defaulting to ffmpeg, but may not work\", RuntimeWarning)\n"
     ]
    },
    {
     "name": "stdout",
     "output_type": "stream",
     "text": [
      "The manim module is not an IPython extension.\n"
     ]
    }
   ],
   "source": [
    "# pre-reqs\n",
    "# - manim\n",
    "# - plotly\n",
    "# - numpy\n",
    "\n",
    "%load_ext manim\n",
    "from manim import *\n",
    "\n",
    "config.pixel_width = 1280\n",
    "config.pixel_height = 720\n",
    "config.frame_rate = 30\n",
    "config.background_color = BLACK\n",
    "config.frame_width = 8 # Wider \"zoom out\" to fit more of the grid"
   ]
  },
  {
   "cell_type": "markdown",
   "id": "85ccd39c",
   "metadata": {},
   "source": [
    "#### Why tangent vectors matter\n",
    "When studying differential geometry (which is essential to understanding things like black holes, curvature, and geodesics), we are working with __curved spaces__. But these spaces are not globally flat like Euclidian space. so how do we do calculus on those spaces?\n",
    "> __We zoom in.__ <br>\n",
    "> Every curved surface looks __locally flat__ when you zoom in close enough; just like the earth seems flat beneath your feet.\n",
    "\n",
    "This is where __tangent vectors__ and __coordinate systems__ come into play."
   ]
  },
  {
   "cell_type": "markdown",
   "id": "e39887d5",
   "metadata": {},
   "source": [
    "### Tangent Vectors in Flat Space (2D)\n",
    "\n",
    "Imagine a flat 2D plane; like a sheet of paper. At every point, you can define vectors that \"touch\" the plane; these are your tangent vectors.\n",
    "- Tangent vectors in 2D are just regular vectors like $\\vec{v} = a \\hat{x} + b \\hat{y} $\n",
    "- They are defined at each point on the plane, but all tangent spaces \"look the same\" since space is flat.\n",
    "\n",
    "In flat Euclidian space, the tangent space at every point is the same as the space itself.\n",
    "\n",
    "We can visualize what the tangent vectors can look like in Flat Space."
   ]
  },
  {
   "cell_type": "code",
   "execution_count": 2,
   "id": "571829c6",
   "metadata": {},
   "outputs": [
    {
     "data": {
      "text/html": [
       "<pre style=\"white-space:pre;overflow-x:auto;line-height:normal;font-family:Menlo,'DejaVu Sans Mono',consolas,'Courier New',monospace\">Manim Community <span style=\"color: #008000; text-decoration-color: #008000\">v0.19.0</span>\n",
       "\n",
       "</pre>\n"
      ],
      "text/plain": [
       "Manim Community \u001b[32mv0.\u001b[0m\u001b[32m19.0\u001b[0m\n",
       "\n"
      ]
     },
     "metadata": {},
     "output_type": "display_data"
    },
    {
     "name": "stderr",
     "output_type": "stream",
     "text": [
      "                                                                                         \r"
     ]
    },
    {
     "data": {
      "text/html": [
       "<video src=\"media\\jupyter\\FlatTangentVectors@2025-06-15@00-26-10.mp4\" controls autoplay loop style=\"max-width: 60%;\"  >\n",
       "      Your browser does not support the <code>video</code> element.\n",
       "    </video>"
      ],
      "text/plain": [
       "<IPython.core.display.Video object>"
      ]
     },
     "metadata": {},
     "output_type": "display_data"
    }
   ],
   "source": [
    "%%manim -v WARNING -qm FlatTangentVectors\n",
    "\n",
    "class FlatTangentVectors(Scene):\n",
    "    def construct(self):\n",
    "        # 2D Grid with better spacing\n",
    "        grid = NumberPlane(\n",
    "            x_range=[-4, 4],\n",
    "            y_range=[-3, 3],\n",
    "            background_line_style={\"stroke_opacity\": 0.4}\n",
    "        )\n",
    "        self.play(Create(grid))\n",
    "\n",
    "        # Create tangent vectors pointing diagonally\n",
    "        vectors = VGroup()\n",
    "        for x in range(-3, 4, 2):\n",
    "            for y in range(-2, 3, 2):\n",
    "                base_point = np.array([x, y, 0])\n",
    "                direction = np.array([0.7, 0.7, 0])\n",
    "                arrow = Arrow(\n",
    "                    start=base_point,\n",
    "                    end=base_point + direction,\n",
    "                    buff=0,\n",
    "                    stroke_width=4,\n",
    "                    color=BLUE_B\n",
    "                )\n",
    "                vectors.add(arrow)\n",
    "\n",
    "        self.play(LaggedStartMap(GrowArrow, vectors, lag_ratio=0.05))\n",
    "        self.wait()"
   ]
  },
  {
   "cell_type": "markdown",
   "id": "2a33925e",
   "metadata": {},
   "source": [
    "### Tangent vectors on a sphere\n",
    "Now imagine a __sphere__ (like Earth). If you zoom in on a point, you can define a __tangent plane__ at that point; this is like the plane that just \"touches\" the surface without cutting into it. All tangent vectors lie __on the tangent plane__ at each point, meaning that they will always __point along the surface__, never into or away from the sphere.\n",
    "\n",
    "Take the example of the North Pole, one tangent vector might point \"towards London\", another towards Canada but __not downward into the Earth__.\n",
    "On a curved surface, the tangent space __depends on the point__; it is \"attached\" to that point and generally looks different at each location.\n",
    "\n",
    "The reason for defining tangent spaces is because, even if a surface is curved globally, we can treat it as flat __locally__ using tangent spaces.\n",
    "This is what allows us to define a variety of topics:\n",
    "- __Geodesics__ (the straightest possible paths on a curved surface)\n",
    "- __Curvature__\n",
    "- __Differentiation on manifolds__\n",
    "\n",
    "We'll come back to these topics.\n",
    "\n",
    "We can visualize some of the tangent vectors in 3D space. in this case a sphere. the vectors are on the surface of the sphere but are only pointing across its surface, not towards the core or outwards of the surface."
   ]
  },
  {
   "cell_type": "code",
   "execution_count": 4,
   "id": "30bf6cb1",
   "metadata": {},
   "outputs": [
    {
     "data": {
      "application/vnd.plotly.v1+json": {
       "config": {
        "plotlyServerURL": "https://plot.ly"
       },
       "data": [
        {
         "colorscale": [
          [
           0,
           "rgb(247,251,255)"
          ],
          [
           0.125,
           "rgb(222,235,247)"
          ],
          [
           0.25,
           "rgb(198,219,239)"
          ],
          [
           0.375,
           "rgb(158,202,225)"
          ],
          [
           0.5,
           "rgb(107,174,214)"
          ],
          [
           0.625,
           "rgb(66,146,198)"
          ],
          [
           0.75,
           "rgb(33,113,181)"
          ],
          [
           0.875,
           "rgb(8,81,156)"
          ],
          [
           1,
           "rgb(8,48,107)"
          ]
         ],
         "opacity": 0.5,
         "showscale": false,
         "type": "surface",
         "x": {
          "bdata": "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",
          "dtype": "f8",
          "shape": "50, 50"
         },
         "y": {
          "bdata": "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",
          "dtype": "f8",
          "shape": "50, 50"
         },
         "z": {
          "bdata": "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",
          "dtype": "f8",
          "shape": "50, 50"
         }
        },
        {
         "anchor": "tail",
         "colorscale": [
          [
           0,
           "blue"
          ],
          [
           1,
           "blue"
          ]
         ],
         "showscale": false,
         "sizemode": "absolute",
         "sizeref": 0.3,
         "type": "cone",
         "u": [
          0.3061862178478973
         ],
         "v": [
          0.17677669529663687
         ],
         "w": [
          -0.3535533905932738
         ],
         "x": [
          1.2247448713915892
         ],
         "y": [
          0.7071067811865475
         ],
         "z": [
          1.4142135623730951
         ]
        },
        {
         "anchor": "tail",
         "colorscale": [
          [
           0,
           "green"
          ],
          [
           1,
           "green"
          ]
         ],
         "showscale": false,
         "sizemode": "absolute",
         "sizeref": 0.3,
         "type": "cone",
         "u": [
          -0.24999999999999997
         ],
         "v": [
          0.43301270189221935
         ],
         "w": [
          0
         ],
         "x": [
          1.2247448713915892
         ],
         "y": [
          0.7071067811865475
         ],
         "z": [
          1.4142135623730951
         ]
        },
        {
         "anchor": "tail",
         "colorscale": [
          [
           0,
           "blue"
          ],
          [
           1,
           "blue"
          ]
         ],
         "showscale": false,
         "sizemode": "absolute",
         "sizeref": 0.3,
         "type": "cone",
         "u": [
          0.17677669529663692
         ],
         "v": [
          0.3061862178478973
         ],
         "w": [
          -0.3535533905932738
         ],
         "x": [
          0.7071067811865477
         ],
         "y": [
          1.2247448713915892
         ],
         "z": [
          1.4142135623730951
         ]
        },
        {
         "anchor": "tail",
         "colorscale": [
          [
           0,
           "green"
          ],
          [
           1,
           "green"
          ]
         ],
         "showscale": false,
         "sizemode": "absolute",
         "sizeref": 0.3,
         "type": "cone",
         "u": [
          -0.43301270189221935
         ],
         "v": [
          0.25000000000000006
         ],
         "w": [
          0
         ],
         "x": [
          0.7071067811865477
         ],
         "y": [
          1.2247448713915892
         ],
         "z": [
          1.4142135623730951
         ]
        },
        {
         "anchor": "tail",
         "colorscale": [
          [
           0,
           "blue"
          ],
          [
           1,
           "blue"
          ]
         ],
         "showscale": false,
         "sizemode": "absolute",
         "sizeref": 0.3,
         "type": "cone",
         "u": [
          2.1648901405887335e-17
         ],
         "v": [
          0.3535533905932738
         ],
         "w": [
          -0.3535533905932738
         ],
         "x": [
          8.659560562354934e-17
         ],
         "y": [
          1.4142135623730951
         ],
         "z": [
          1.4142135623730951
         ]
        },
        {
         "anchor": "tail",
         "colorscale": [
          [
           0,
           "green"
          ],
          [
           1,
           "green"
          ]
         ],
         "showscale": false,
         "sizemode": "absolute",
         "sizeref": 0.3,
         "type": "cone",
         "u": [
          -0.5
         ],
         "v": [
          3.061616997868383e-17
         ],
         "w": [
          0
         ],
         "x": [
          8.659560562354934e-17
         ],
         "y": [
          1.4142135623730951
         ],
         "z": [
          1.4142135623730951
         ]
        },
        {
         "anchor": "tail",
         "colorscale": [
          [
           0,
           "blue"
          ],
          [
           1,
           "blue"
          ]
         ],
         "showscale": false,
         "sizemode": "absolute",
         "sizeref": 0.3,
         "type": "cone",
         "u": [
          0.21650635094610973
         ],
         "v": [
          0.125
         ],
         "w": [
          -0.4330127018922193
         ],
         "x": [
          1.5
         ],
         "y": [
          0.8660254037844385
         ],
         "z": [
          1.0000000000000002
         ]
        },
        {
         "anchor": "tail",
         "colorscale": [
          [
           0,
           "green"
          ],
          [
           1,
           "green"
          ]
         ],
         "showscale": false,
         "sizemode": "absolute",
         "sizeref": 0.3,
         "type": "cone",
         "u": [
          -0.24999999999999997
         ],
         "v": [
          0.43301270189221935
         ],
         "w": [
          0
         ],
         "x": [
          1.5
         ],
         "y": [
          0.8660254037844385
         ],
         "z": [
          1.0000000000000002
         ]
        },
        {
         "anchor": "tail",
         "colorscale": [
          [
           0,
           "blue"
          ],
          [
           1,
           "blue"
          ]
         ],
         "showscale": false,
         "sizemode": "absolute",
         "sizeref": 0.3,
         "type": "cone",
         "u": [
          0.12500000000000006
         ],
         "v": [
          0.2165063509461097
         ],
         "w": [
          -0.4330127018922193
         ],
         "x": [
          0.8660254037844388
         ],
         "y": [
          1.4999999999999998
         ],
         "z": [
          1.0000000000000002
         ]
        },
        {
         "anchor": "tail",
         "colorscale": [
          [
           0,
           "green"
          ],
          [
           1,
           "green"
          ]
         ],
         "showscale": false,
         "sizemode": "absolute",
         "sizeref": 0.3,
         "type": "cone",
         "u": [
          -0.4330127018922193
         ],
         "v": [
          0.25000000000000006
         ],
         "w": [
          0
         ],
         "x": [
          0.8660254037844388
         ],
         "y": [
          1.4999999999999998
         ],
         "z": [
          1.0000000000000002
         ]
        },
        {
         "anchor": "tail",
         "colorscale": [
          [
           0,
           "blue"
          ],
          [
           1,
           "blue"
          ]
         ],
         "showscale": false,
         "sizemode": "absolute",
         "sizeref": 0.3,
         "type": "cone",
         "u": [
          1.5308084989341918e-17
         ],
         "v": [
          0.25000000000000006
         ],
         "w": [
          -0.4330127018922193
         ],
         "x": [
          1.0605752387249068e-16
         ],
         "y": [
          1.7320508075688772
         ],
         "z": [
          1.0000000000000002
         ]
        },
        {
         "anchor": "tail",
         "colorscale": [
          [
           0,
           "green"
          ],
          [
           1,
           "green"
          ]
         ],
         "showscale": false,
         "sizemode": "absolute",
         "sizeref": 0.3,
         "type": "cone",
         "u": [
          -0.5
         ],
         "v": [
          3.061616997868383e-17
         ],
         "w": [
          0
         ],
         "x": [
          1.0605752387249068e-16
         ],
         "y": [
          1.7320508075688772
         ],
         "z": [
          1.0000000000000002
         ]
        },
        {
         "anchor": "tail",
         "colorscale": [
          [
           0,
           "blue"
          ],
          [
           1,
           "blue"
          ]
         ],
         "showscale": false,
         "sizemode": "absolute",
         "sizeref": 0.3,
         "type": "cone",
         "u": [
          0.061624132640069516
         ],
         "v": [
          0.03557870956832133
         ],
         "w": [
          -0.49491072094046634
         ],
         "x": [
          1.71442102775886
         ],
         "y": [
          0.9898214418809326
         ],
         "z": [
          0.2846296765465707
         ]
        },
        {
         "anchor": "tail",
         "colorscale": [
          [
           0,
           "green"
          ],
          [
           1,
           "green"
          ]
         ],
         "showscale": false,
         "sizemode": "absolute",
         "sizeref": 0.3,
         "type": "cone",
         "u": [
          -0.24999999999999997
         ],
         "v": [
          0.43301270189221935
         ],
         "w": [
          0
         ],
         "x": [
          1.71442102775886
         ],
         "y": [
          0.9898214418809326
         ],
         "z": [
          0.2846296765465707
         ]
        },
        {
         "anchor": "tail",
         "colorscale": [
          [
           0,
           "blue"
          ],
          [
           1,
           "blue"
          ]
         ],
         "showscale": false,
         "sizemode": "absolute",
         "sizeref": 0.3,
         "type": "cone",
         "u": [
          0.03557870956832134
         ],
         "v": [
          0.0616241326400695
         ],
         "w": [
          -0.49491072094046634
         ],
         "x": [
          0.9898214418809329
         ],
         "y": [
          1.7144210277588599
         ],
         "z": [
          0.2846296765465707
         ]
        },
        {
         "anchor": "tail",
         "colorscale": [
          [
           0,
           "green"
          ],
          [
           1,
           "green"
          ]
         ],
         "showscale": false,
         "sizemode": "absolute",
         "sizeref": 0.3,
         "type": "cone",
         "u": [
          -0.4330127018922193
         ],
         "v": [
          0.25000000000000006
         ],
         "w": [
          0
         ],
         "x": [
          0.9898214418809329
         ],
         "y": [
          1.7144210277588599
         ],
         "z": [
          0.2846296765465707
         ]
        },
        {
         "anchor": "tail",
         "colorscale": [
          [
           0,
           "blue"
          ],
          [
           1,
           "blue"
          ]
         ],
         "showscale": false,
         "sizemode": "absolute",
         "sizeref": 0.3,
         "type": "cone",
         "u": [
          4.3571352790638034e-18
         ],
         "v": [
          0.07115741913664267
         ],
         "w": [
          -0.49491072094046634
         ],
         "x": [
          1.2121816605269022e-16
         ],
         "y": [
          1.9796428837618654
         ],
         "z": [
          0.2846296765465707
         ]
        },
        {
         "anchor": "tail",
         "colorscale": [
          [
           0,
           "green"
          ],
          [
           1,
           "green"
          ]
         ],
         "showscale": false,
         "sizemode": "absolute",
         "sizeref": 0.3,
         "type": "cone",
         "u": [
          -0.5
         ],
         "v": [
          3.061616997868383e-17
         ],
         "w": [
          0
         ],
         "x": [
          1.2121816605269022e-16
         ],
         "y": [
          1.9796428837618654
         ],
         "z": [
          0.2846296765465707
         ]
        }
       ],
       "layout": {
        "margin": {
         "b": 0,
         "l": 0,
         "r": 0,
         "t": 40
        },
        "scene": {
         "aspectmode": "cube",
         "xaxis": {
          "range": [
           -2.5,
           2.5
          ]
         },
         "yaxis": {
          "range": [
           -2.5,
           2.5
          ]
         },
         "zaxis": {
          "range": [
           -2.5,
           2.5
          ]
         }
        },
        "template": {
         "data": {
          "bar": [
           {
            "error_x": {
             "color": "#2a3f5f"
            },
            "error_y": {
             "color": "#2a3f5f"
            },
            "marker": {
             "line": {
              "color": "#E5ECF6",
              "width": 0.5
             },
             "pattern": {
              "fillmode": "overlay",
              "size": 10,
              "solidity": 0.2
             }
            },
            "type": "bar"
           }
          ],
          "barpolar": [
           {
            "marker": {
             "line": {
              "color": "#E5ECF6",
              "width": 0.5
             },
             "pattern": {
              "fillmode": "overlay",
              "size": 10,
              "solidity": 0.2
             }
            },
            "type": "barpolar"
           }
          ],
          "carpet": [
           {
            "aaxis": {
             "endlinecolor": "#2a3f5f",
             "gridcolor": "white",
             "linecolor": "white",
             "minorgridcolor": "white",
             "startlinecolor": "#2a3f5f"
            },
            "baxis": {
             "endlinecolor": "#2a3f5f",
             "gridcolor": "white",
             "linecolor": "white",
             "minorgridcolor": "white",
             "startlinecolor": "#2a3f5f"
            },
            "type": "carpet"
           }
          ],
          "choropleth": [
           {
            "colorbar": {
             "outlinewidth": 0,
             "ticks": ""
            },
            "type": "choropleth"
           }
          ],
          "contour": [
           {
            "colorbar": {
             "outlinewidth": 0,
             "ticks": ""
            },
            "colorscale": [
             [
              0,
              "#0d0887"
             ],
             [
              0.1111111111111111,
              "#46039f"
             ],
             [
              0.2222222222222222,
              "#7201a8"
             ],
             [
              0.3333333333333333,
              "#9c179e"
             ],
             [
              0.4444444444444444,
              "#bd3786"
             ],
             [
              0.5555555555555556,
              "#d8576b"
             ],
             [
              0.6666666666666666,
              "#ed7953"
             ],
             [
              0.7777777777777778,
              "#fb9f3a"
             ],
             [
              0.8888888888888888,
              "#fdca26"
             ],
             [
              1,
              "#f0f921"
             ]
            ],
            "type": "contour"
           }
          ],
          "contourcarpet": [
           {
            "colorbar": {
             "outlinewidth": 0,
             "ticks": ""
            },
            "type": "contourcarpet"
           }
          ],
          "heatmap": [
           {
            "colorbar": {
             "outlinewidth": 0,
             "ticks": ""
            },
            "colorscale": [
             [
              0,
              "#0d0887"
             ],
             [
              0.1111111111111111,
              "#46039f"
             ],
             [
              0.2222222222222222,
              "#7201a8"
             ],
             [
              0.3333333333333333,
              "#9c179e"
             ],
             [
              0.4444444444444444,
              "#bd3786"
             ],
             [
              0.5555555555555556,
              "#d8576b"
             ],
             [
              0.6666666666666666,
              "#ed7953"
             ],
             [
              0.7777777777777778,
              "#fb9f3a"
             ],
             [
              0.8888888888888888,
              "#fdca26"
             ],
             [
              1,
              "#f0f921"
             ]
            ],
            "type": "heatmap"
           }
          ],
          "histogram": [
           {
            "marker": {
             "pattern": {
              "fillmode": "overlay",
              "size": 10,
              "solidity": 0.2
             }
            },
            "type": "histogram"
           }
          ],
          "histogram2d": [
           {
            "colorbar": {
             "outlinewidth": 0,
             "ticks": ""
            },
            "colorscale": [
             [
              0,
              "#0d0887"
             ],
             [
              0.1111111111111111,
              "#46039f"
             ],
             [
              0.2222222222222222,
              "#7201a8"
             ],
             [
              0.3333333333333333,
              "#9c179e"
             ],
             [
              0.4444444444444444,
              "#bd3786"
             ],
             [
              0.5555555555555556,
              "#d8576b"
             ],
             [
              0.6666666666666666,
              "#ed7953"
             ],
             [
              0.7777777777777778,
              "#fb9f3a"
             ],
             [
              0.8888888888888888,
              "#fdca26"
             ],
             [
              1,
              "#f0f921"
             ]
            ],
            "type": "histogram2d"
           }
          ],
          "histogram2dcontour": [
           {
            "colorbar": {
             "outlinewidth": 0,
             "ticks": ""
            },
            "colorscale": [
             [
              0,
              "#0d0887"
             ],
             [
              0.1111111111111111,
              "#46039f"
             ],
             [
              0.2222222222222222,
              "#7201a8"
             ],
             [
              0.3333333333333333,
              "#9c179e"
             ],
             [
              0.4444444444444444,
              "#bd3786"
             ],
             [
              0.5555555555555556,
              "#d8576b"
             ],
             [
              0.6666666666666666,
              "#ed7953"
             ],
             [
              0.7777777777777778,
              "#fb9f3a"
             ],
             [
              0.8888888888888888,
              "#fdca26"
             ],
             [
              1,
              "#f0f921"
             ]
            ],
            "type": "histogram2dcontour"
           }
          ],
          "mesh3d": [
           {
            "colorbar": {
             "outlinewidth": 0,
             "ticks": ""
            },
            "type": "mesh3d"
           }
          ],
          "parcoords": [
           {
            "line": {
             "colorbar": {
              "outlinewidth": 0,
              "ticks": ""
             }
            },
            "type": "parcoords"
           }
          ],
          "pie": [
           {
            "automargin": true,
            "type": "pie"
           }
          ],
          "scatter": [
           {
            "fillpattern": {
             "fillmode": "overlay",
             "size": 10,
             "solidity": 0.2
            },
            "type": "scatter"
           }
          ],
          "scatter3d": [
           {
            "line": {
             "colorbar": {
              "outlinewidth": 0,
              "ticks": ""
             }
            },
            "marker": {
             "colorbar": {
              "outlinewidth": 0,
              "ticks": ""
             }
            },
            "type": "scatter3d"
           }
          ],
          "scattercarpet": [
           {
            "marker": {
             "colorbar": {
              "outlinewidth": 0,
              "ticks": ""
             }
            },
            "type": "scattercarpet"
           }
          ],
          "scattergeo": [
           {
            "marker": {
             "colorbar": {
              "outlinewidth": 0,
              "ticks": ""
             }
            },
            "type": "scattergeo"
           }
          ],
          "scattergl": [
           {
            "marker": {
             "colorbar": {
              "outlinewidth": 0,
              "ticks": ""
             }
            },
            "type": "scattergl"
           }
          ],
          "scattermap": [
           {
            "marker": {
             "colorbar": {
              "outlinewidth": 0,
              "ticks": ""
             }
            },
            "type": "scattermap"
           }
          ],
          "scattermapbox": [
           {
            "marker": {
             "colorbar": {
              "outlinewidth": 0,
              "ticks": ""
             }
            },
            "type": "scattermapbox"
           }
          ],
          "scatterpolar": [
           {
            "marker": {
             "colorbar": {
              "outlinewidth": 0,
              "ticks": ""
             }
            },
            "type": "scatterpolar"
           }
          ],
          "scatterpolargl": [
           {
            "marker": {
             "colorbar": {
              "outlinewidth": 0,
              "ticks": ""
             }
            },
            "type": "scatterpolargl"
           }
          ],
          "scatterternary": [
           {
            "marker": {
             "colorbar": {
              "outlinewidth": 0,
              "ticks": ""
             }
            },
            "type": "scatterternary"
           }
          ],
          "surface": [
           {
            "colorbar": {
             "outlinewidth": 0,
             "ticks": ""
            },
            "colorscale": [
             [
              0,
              "#0d0887"
             ],
             [
              0.1111111111111111,
              "#46039f"
             ],
             [
              0.2222222222222222,
              "#7201a8"
             ],
             [
              0.3333333333333333,
              "#9c179e"
             ],
             [
              0.4444444444444444,
              "#bd3786"
             ],
             [
              0.5555555555555556,
              "#d8576b"
             ],
             [
              0.6666666666666666,
              "#ed7953"
             ],
             [
              0.7777777777777778,
              "#fb9f3a"
             ],
             [
              0.8888888888888888,
              "#fdca26"
             ],
             [
              1,
              "#f0f921"
             ]
            ],
            "type": "surface"
           }
          ],
          "table": [
           {
            "cells": {
             "fill": {
              "color": "#EBF0F8"
             },
             "line": {
              "color": "white"
             }
            },
            "header": {
             "fill": {
              "color": "#C8D4E3"
             },
             "line": {
              "color": "white"
             }
            },
            "type": "table"
           }
          ]
         },
         "layout": {
          "annotationdefaults": {
           "arrowcolor": "#2a3f5f",
           "arrowhead": 0,
           "arrowwidth": 1
          },
          "autotypenumbers": "strict",
          "coloraxis": {
           "colorbar": {
            "outlinewidth": 0,
            "ticks": ""
           }
          },
          "colorscale": {
           "diverging": [
            [
             0,
             "#8e0152"
            ],
            [
             0.1,
             "#c51b7d"
            ],
            [
             0.2,
             "#de77ae"
            ],
            [
             0.3,
             "#f1b6da"
            ],
            [
             0.4,
             "#fde0ef"
            ],
            [
             0.5,
             "#f7f7f7"
            ],
            [
             0.6,
             "#e6f5d0"
            ],
            [
             0.7,
             "#b8e186"
            ],
            [
             0.8,
             "#7fbc41"
            ],
            [
             0.9,
             "#4d9221"
            ],
            [
             1,
             "#276419"
            ]
           ],
           "sequential": [
            [
             0,
             "#0d0887"
            ],
            [
             0.1111111111111111,
             "#46039f"
            ],
            [
             0.2222222222222222,
             "#7201a8"
            ],
            [
             0.3333333333333333,
             "#9c179e"
            ],
            [
             0.4444444444444444,
             "#bd3786"
            ],
            [
             0.5555555555555556,
             "#d8576b"
            ],
            [
             0.6666666666666666,
             "#ed7953"
            ],
            [
             0.7777777777777778,
             "#fb9f3a"
            ],
            [
             0.8888888888888888,
             "#fdca26"
            ],
            [
             1,
             "#f0f921"
            ]
           ],
           "sequentialminus": [
            [
             0,
             "#0d0887"
            ],
            [
             0.1111111111111111,
             "#46039f"
            ],
            [
             0.2222222222222222,
             "#7201a8"
            ],
            [
             0.3333333333333333,
             "#9c179e"
            ],
            [
             0.4444444444444444,
             "#bd3786"
            ],
            [
             0.5555555555555556,
             "#d8576b"
            ],
            [
             0.6666666666666666,
             "#ed7953"
            ],
            [
             0.7777777777777778,
             "#fb9f3a"
            ],
            [
             0.8888888888888888,
             "#fdca26"
            ],
            [
             1,
             "#f0f921"
            ]
           ]
          },
          "colorway": [
           "#636efa",
           "#EF553B",
           "#00cc96",
           "#ab63fa",
           "#FFA15A",
           "#19d3f3",
           "#FF6692",
           "#B6E880",
           "#FF97FF",
           "#FECB52"
          ],
          "font": {
           "color": "#2a3f5f"
          },
          "geo": {
           "bgcolor": "white",
           "lakecolor": "white",
           "landcolor": "#E5ECF6",
           "showlakes": true,
           "showland": true,
           "subunitcolor": "white"
          },
          "hoverlabel": {
           "align": "left"
          },
          "hovermode": "closest",
          "mapbox": {
           "style": "light"
          },
          "paper_bgcolor": "white",
          "plot_bgcolor": "#E5ECF6",
          "polar": {
           "angularaxis": {
            "gridcolor": "white",
            "linecolor": "white",
            "ticks": ""
           },
           "bgcolor": "#E5ECF6",
           "radialaxis": {
            "gridcolor": "white",
            "linecolor": "white",
            "ticks": ""
           }
          },
          "scene": {
           "xaxis": {
            "backgroundcolor": "#E5ECF6",
            "gridcolor": "white",
            "gridwidth": 2,
            "linecolor": "white",
            "showbackground": true,
            "ticks": "",
            "zerolinecolor": "white"
           },
           "yaxis": {
            "backgroundcolor": "#E5ECF6",
            "gridcolor": "white",
            "gridwidth": 2,
            "linecolor": "white",
            "showbackground": true,
            "ticks": "",
            "zerolinecolor": "white"
           },
           "zaxis": {
            "backgroundcolor": "#E5ECF6",
            "gridcolor": "white",
            "gridwidth": 2,
            "linecolor": "white",
            "showbackground": true,
            "ticks": "",
            "zerolinecolor": "white"
           }
          },
          "shapedefaults": {
           "line": {
            "color": "#2a3f5f"
           }
          },
          "ternary": {
           "aaxis": {
            "gridcolor": "white",
            "linecolor": "white",
            "ticks": ""
           },
           "baxis": {
            "gridcolor": "white",
            "linecolor": "white",
            "ticks": ""
           },
           "bgcolor": "#E5ECF6",
           "caxis": {
            "gridcolor": "white",
            "linecolor": "white",
            "ticks": ""
           }
          },
          "title": {
           "x": 0.05
          },
          "xaxis": {
           "automargin": true,
           "gridcolor": "white",
           "linecolor": "white",
           "ticks": "",
           "title": {
            "standoff": 15
           },
           "zerolinecolor": "white",
           "zerolinewidth": 2
          },
          "yaxis": {
           "automargin": true,
           "gridcolor": "white",
           "linecolor": "white",
           "ticks": "",
           "title": {
            "standoff": 15
           },
           "zerolinecolor": "white",
           "zerolinewidth": 2
          }
         }
        },
        "title": {
         "text": "Tangent Vectors on a Sphere (Plotly)"
        }
       }
      }
     },
     "metadata": {},
     "output_type": "display_data"
    }
   ],
   "source": [
    "import numpy as np\n",
    "import plotly.graph_objects as go\n",
    "\n",
    "# Sphere and vector setup\n",
    "r = 2\n",
    "u = np.linspace(0, np.pi, 50)\n",
    "v = np.linspace(0, 2 * np.pi, 50)\n",
    "x = r * np.outer(np.sin(u), np.cos(v))\n",
    "y = r * np.outer(np.sin(u), np.sin(v))\n",
    "z = r * np.outer(np.cos(u), np.ones_like(v))\n",
    "\n",
    "thetas = [np.pi / 4, np.pi / 3, np.pi / 2.2]\n",
    "phis = [np.pi / 6, np.pi / 3, np.pi / 2]\n",
    "\n",
    "# Surface of the sphere\n",
    "sphere_surface = go.Surface(x=x, y=y, z=z, colorscale='Blues', opacity=0.5, showscale=False)\n",
    "\n",
    "def generate_vector_data():\n",
    "    vectors = []\n",
    "    for theta in thetas:\n",
    "        for phi in phis:\n",
    "            px = r * np.sin(theta) * np.cos(phi)\n",
    "            py = r * np.sin(theta) * np.sin(phi)\n",
    "            pz = r * np.cos(theta)\n",
    "\n",
    "            d_theta = np.array([\n",
    "                r * np.cos(theta) * np.cos(phi),\n",
    "                r * np.cos(theta) * np.sin(phi),\n",
    "                -r * np.sin(theta)\n",
    "            ])\n",
    "            d_phi = np.array([\n",
    "                -r * np.sin(theta) * np.sin(phi),\n",
    "                r * np.sin(theta) * np.cos(phi),\n",
    "                0\n",
    "            ])\n",
    "\n",
    "            d_theta = 0.5 * d_theta / np.linalg.norm(d_theta)\n",
    "            d_phi = 0.5 * d_phi / np.linalg.norm(d_phi)\n",
    "\n",
    "            for vec, color in [(d_theta, 'blue'), (d_phi, 'green')]:\n",
    "                vectors.append(go.Cone(\n",
    "                    x=[px], y=[py], z=[pz],\n",
    "                    u=[vec[0]], v=[vec[1]], w=[vec[2]],\n",
    "                    sizemode=\"absolute\", sizeref=0.3,\n",
    "                    anchor=\"tail\",\n",
    "                    colorscale=[[0, color], [1, color]],\n",
    "                    showscale=False\n",
    "                ))\n",
    "    return vectors\n",
    "\n",
    "fig = go.Figure(data=[sphere_surface] + generate_vector_data())\n",
    "fig.update_layout(\n",
    "    scene=dict(\n",
    "        xaxis=dict(range=[-2.5, 2.5]),\n",
    "        yaxis=dict(range=[-2.5, 2.5]),\n",
    "        zaxis=dict(range=[-2.5, 2.5]),\n",
    "        aspectmode='cube'\n",
    "    ),\n",
    "    title=\"Tangent Vectors on a Sphere (Plotly)\",\n",
    "    margin=dict(l=0, r=0, b=0, t=40)\n",
    ")\n",
    "\n",
    "fig.show()\n"
   ]
  },
  {
   "cell_type": "code",
   "execution_count": null,
   "id": "134a36f4",
   "metadata": {},
   "outputs": [],
   "source": []
  }
 ],
 "metadata": {
  "kernelspec": {
   "display_name": "Python 3",
   "language": "python",
   "name": "python3"
  },
  "language_info": {
   "codemirror_mode": {
    "name": "ipython",
    "version": 3
   },
   "file_extension": ".py",
   "mimetype": "text/x-python",
   "name": "python",
   "nbconvert_exporter": "python",
   "pygments_lexer": "ipython3",
   "version": "3.10.1"
  }
 },
 "nbformat": 4,
 "nbformat_minor": 5
}
